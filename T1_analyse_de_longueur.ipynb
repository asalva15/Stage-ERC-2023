{
  "cells": [
    {
      "cell_type": "markdown",
      "metadata": {
        "id": "view-in-github",
        "colab_type": "text"
      },
      "source": [
        "<a href=\"https://colab.research.google.com/github/asalva15/Stage-ERC-2023/blob/main/T1_analyse_de_longueur.ipynb\" target=\"_parent\"><img src=\"https://colab.research.google.com/assets/colab-badge.svg\" alt=\"Open In Colab\"/></a>"
      ]
    },
    {
      "cell_type": "code",
      "execution_count": null,
      "metadata": {
        "id": "_CvOYRnWXMN4"
      },
      "outputs": [],
      "source": [
        "import pandas as pd"
      ]
    },
    {
      "cell_type": "code",
      "execution_count": null,
      "metadata": {
        "id": "wa3RDk04Mzvz"
      },
      "outputs": [],
      "source": [
        "import os"
      ]
    },
    {
      "cell_type": "code",
      "execution_count": null,
      "metadata": {
        "id": "GPQqtUXaQSGu"
      },
      "outputs": [],
      "source": [
        "import json"
      ]
    },
    {
      "cell_type": "code",
      "execution_count": null,
      "metadata": {
        "id": "3CY9yw6RtliZ"
      },
      "outputs": [],
      "source": [
        "from google.colab import drive\n"
      ]
    },
    {
      "cell_type": "code",
      "execution_count": null,
      "metadata": {
        "id": "PkqBlpWEMvjy"
      },
      "outputs": [],
      "source": [
        "drive.mount('/content/drive')\n"
      ]
    },
    {
      "cell_type": "code",
      "execution_count": null,
      "metadata": {
        "id": "Tz1PIPSmtzXQ"
      },
      "outputs": [],
      "source": [
        "file_path_essai = '/content/drive/My Drive/ERC 2023 Axelle Salvador/essai.csv'\n"
      ]
    },
    {
      "cell_type": "code",
      "execution_count": null,
      "metadata": {
        "id": "zHE90db-sm3H"
      },
      "outputs": [],
      "source": [
        "os.chdir(os.path.dirname(file_path_essai))"
      ]
    },
    {
      "cell_type": "code",
      "execution_count": null,
      "metadata": {
        "id": "ztTwn1vEsm-X",
        "colab": {
          "base_uri": "https://localhost:8080/"
        },
        "outputId": "51de0531-9f8e-46c3-a890-a7b898635fa2"
      },
      "outputs": [
        {
          "output_type": "stream",
          "name": "stdout",
          "text": [
            "<class 'pandas.core.frame.DataFrame'>\n",
            "RangeIndex: 5 entries, 0 to 4\n",
            "Data columns (total 1 columns):\n",
            " #   Column  Non-Null Count  Dtype \n",
            "---  ------  --------------  ----- \n",
            " 0   Phrase  5 non-null      object\n",
            "dtypes: object(1)\n",
            "memory usage: 168.0+ bytes\n"
          ]
        }
      ],
      "source": [
        "essai = pd.read_csv(file_path_essai, encoding=\"latin-1\")\n",
        "essai.info()"
      ]
    },
    {
      "cell_type": "code",
      "execution_count": null,
      "metadata": {
        "colab": {
          "base_uri": "https://localhost:8080/"
        },
        "id": "lHeEvz_yNs9V",
        "outputId": "ec125aa7-b99d-426a-c03d-9fad8d2a5db4"
      },
      "outputs": [
        {
          "output_type": "stream",
          "name": "stdout",
          "text": [
            "                                              Phrase\n",
            "0                                    Je vais manger.\n",
            "1                 Qui rira bien qui rira le dernier.\n",
            "2  Jean Anouilh est l'auteur de la pièce Le Voyag...\n",
            "3  On est quelquefois aussi différent de soi-même...\n",
            "4  Rien n'empêche tant d'être naturel que l'envie...\n"
          ]
        }
      ],
      "source": [
        "print(essai)"
      ]
    },
    {
      "cell_type": "code",
      "execution_count": null,
      "metadata": {
        "id": "JrrVnr0OPkjS"
      },
      "outputs": [],
      "source": []
    },
    {
      "cell_type": "code",
      "execution_count": null,
      "metadata": {
        "id": "GL4s_xmcPkof"
      },
      "outputs": [],
      "source": []
    },
    {
      "cell_type": "code",
      "execution_count": null,
      "metadata": {
        "id": "zDHpgZtmPkq6"
      },
      "outputs": [],
      "source": [
        "dic_essai= {}"
      ]
    },
    {
      "cell_type": "code",
      "execution_count": null,
      "metadata": {
        "colab": {
          "base_uri": "https://localhost:8080/"
        },
        "id": "SlMttGJgNs_w",
        "outputId": "fa0fd710-9dd3-407a-d9a1-698e7803eb99"
      },
      "outputs": [
        {
          "output_type": "stream",
          "name": "stdout",
          "text": [
            "{'Phrase': 1, 'Je vais manger.': 3, 'Qui rira bien qui rira le dernier.': 7, \"Jean Anouilh est l'auteur de la pièce Le Voyageur sans bagages. \": 11, 'On est quelquefois aussi différent de soi-même que des autres. ': 10, \"Rien n'empêche tant d'être naturel que l'envie de le paraître.\": 10}\n"
          ]
        }
      ],
      "source": [
        "\n",
        "for index, row in essai.iterrows():\n",
        "    sentence = row['Phrase']\n",
        "    words = sentence.split() #par défaut, splt sur l'espace entre les mots\n",
        "    length = len(words)\n",
        "    dic_essai[sentence] = length\n",
        "\n",
        "print(sentence_length_dict) #à revoir, notamment syntaxe du nom\n"
      ]
    },
    {
      "cell_type": "code",
      "execution_count": null,
      "metadata": {
        "id": "vLlWk6fcRCQz"
      },
      "outputs": [],
      "source": [
        "with open(json_file_path, 'w',encoding=\"utf-8\") as json_file:\n",
        "    json.dump(sentence_length_dict, json_file, indent=4)"
      ]
    },
    {
      "cell_type": "code",
      "execution_count": null,
      "metadata": {
        "id": "xOmi6cO9snFd"
      },
      "outputs": [],
      "source": [
        "file_path = '/content/drive/My Drive/ERC 2023 Axelle Salvador/modern_all_alignment.csv'"
      ]
    },
    {
      "cell_type": "code",
      "execution_count": null,
      "metadata": {
        "id": "8-2VllyrsnHs"
      },
      "outputs": [],
      "source": [
        "os.chdir(os.path.dirname(file_path))"
      ]
    },
    {
      "cell_type": "code",
      "execution_count": null,
      "metadata": {
        "colab": {
          "base_uri": "https://localhost:8080/"
        },
        "id": "jr_T2D7GU31x",
        "outputId": "eafcb1a1-69e1-4037-aa94-814ec8fcaf2a"
      },
      "outputs": [
        {
          "output_type": "execute_result",
          "data": {
            "text/plain": [
              "9223372036854775807"
            ]
          },
          "metadata": {},
          "execution_count": 229
        }
      ],
      "source": [
        "import sys\n",
        "\n",
        "csv.field_size_limit(sys.maxsize)"
      ]
    },
    {
      "cell_type": "code",
      "execution_count": null,
      "metadata": {
        "colab": {
          "base_uri": "https://localhost:8080/"
        },
        "id": "oecIJySssnKr",
        "outputId": "1cbe95b5-25f8-4f97-c0b1-bc0a4ea1c0da"
      },
      "outputs": [
        {
          "output_type": "stream",
          "name": "stdout",
          "text": [
            "<class 'pandas.core.frame.DataFrame'>\n",
            "RangeIndex: 1878199 entries, 0 to 1878198\n",
            "Data columns (total 10 columns):\n",
            " #   Column           Dtype  \n",
            "---  ------           -----  \n",
            " 0   source_passage   object \n",
            " 1   source_author    object \n",
            " 2   source_title     object \n",
            " 3   source_date      float64\n",
            " 4   target_passage   object \n",
            " 5   target_author    object \n",
            " 6   target_title     object \n",
            " 7   target_date      float64\n",
            " 8   source_filename  object \n",
            " 9   target_filename  object \n",
            "dtypes: float64(2), object(8)\n",
            "memory usage: 143.3+ MB\n"
          ]
        }
      ],
      "source": [
        "modern_all_alignment = pd.read_csv(file_path, encoding=\"latin-1\",engine=\"python\")\n",
        "modern_all_alignment.info()"
      ]
    },
    {
      "cell_type": "code",
      "execution_count": null,
      "metadata": {
        "id": "0dSIFNFxsnL9"
      },
      "outputs": [],
      "source": [
        "dic_all= {}\n",
        "modern_all_alignment.dropna(subset=['source_passage', 'target_passage'], inplace=True)\n",
        "list_all = modern_all_alignment['source_passage'] + modern_all_alignment['target_passage']\n",
        "nb_words = [len(passage.split()) for passage in list_all]\n",
        "df = pd.DataFrame.from_dict({'passage': list_all, 'nb_words': nb_words})"
      ]
    },
    {
      "cell_type": "code",
      "source": [
        "df.info()"
      ],
      "metadata": {
        "colab": {
          "base_uri": "https://localhost:8080/"
        },
        "id": "_4Ouukr6egiN",
        "outputId": "58194688-df8f-4729-f301-2d3362aae644"
      },
      "execution_count": null,
      "outputs": [
        {
          "output_type": "stream",
          "name": "stdout",
          "text": [
            "<class 'pandas.core.frame.DataFrame'>\n",
            "Int64Index: 1878066 entries, 0 to 1878198\n",
            "Data columns (total 2 columns):\n",
            " #   Column    Dtype \n",
            "---  ------    ----- \n",
            " 0   passage   object\n",
            " 1   nb_words  int64 \n",
            "dtypes: int64(1), object(1)\n",
            "memory usage: 43.0+ MB\n"
          ]
        }
      ]
    },
    {
      "cell_type": "code",
      "execution_count": 248,
      "metadata": {
        "id": "5XEw36scsnQY",
        "colab": {
          "base_uri": "https://localhost:8080/",
          "height": 143
        },
        "outputId": "9bac5f25-8b06-4035-fd3b-6b9f769bc919"
      },
      "outputs": [
        {
          "output_type": "execute_result",
          "data": {
            "text/plain": [
              "        nb_words\n",
              "min          1.0\n",
              "max     140993.0\n",
              "median      63.0"
            ],
            "text/html": [
              "\n",
              "  <div id=\"df-d08f0357-710e-407a-8dfe-b0fad061e828\" class=\"colab-df-container\">\n",
              "    <div>\n",
              "<style scoped>\n",
              "    .dataframe tbody tr th:only-of-type {\n",
              "        vertical-align: middle;\n",
              "    }\n",
              "\n",
              "    .dataframe tbody tr th {\n",
              "        vertical-align: top;\n",
              "    }\n",
              "\n",
              "    .dataframe thead th {\n",
              "        text-align: right;\n",
              "    }\n",
              "</style>\n",
              "<table border=\"1\" class=\"dataframe\">\n",
              "  <thead>\n",
              "    <tr style=\"text-align: right;\">\n",
              "      <th></th>\n",
              "      <th>nb_words</th>\n",
              "    </tr>\n",
              "  </thead>\n",
              "  <tbody>\n",
              "    <tr>\n",
              "      <th>min</th>\n",
              "      <td>1.0</td>\n",
              "    </tr>\n",
              "    <tr>\n",
              "      <th>max</th>\n",
              "      <td>140993.0</td>\n",
              "    </tr>\n",
              "    <tr>\n",
              "      <th>median</th>\n",
              "      <td>63.0</td>\n",
              "    </tr>\n",
              "  </tbody>\n",
              "</table>\n",
              "</div>\n",
              "    <div class=\"colab-df-buttons\">\n",
              "\n",
              "  <div class=\"colab-df-container\">\n",
              "    <button class=\"colab-df-convert\" onclick=\"convertToInteractive('df-d08f0357-710e-407a-8dfe-b0fad061e828')\"\n",
              "            title=\"Convert this dataframe to an interactive table.\"\n",
              "            style=\"display:none;\">\n",
              "\n",
              "  <svg xmlns=\"http://www.w3.org/2000/svg\" height=\"24px\" viewBox=\"0 -960 960 960\">\n",
              "    <path d=\"M120-120v-720h720v720H120Zm60-500h600v-160H180v160Zm220 220h160v-160H400v160Zm0 220h160v-160H400v160ZM180-400h160v-160H180v160Zm440 0h160v-160H620v160ZM180-180h160v-160H180v160Zm440 0h160v-160H620v160Z\"/>\n",
              "  </svg>\n",
              "    </button>\n",
              "\n",
              "  <style>\n",
              "    .colab-df-container {\n",
              "      display:flex;\n",
              "      gap: 12px;\n",
              "    }\n",
              "\n",
              "    .colab-df-convert {\n",
              "      background-color: #E8F0FE;\n",
              "      border: none;\n",
              "      border-radius: 50%;\n",
              "      cursor: pointer;\n",
              "      display: none;\n",
              "      fill: #1967D2;\n",
              "      height: 32px;\n",
              "      padding: 0 0 0 0;\n",
              "      width: 32px;\n",
              "    }\n",
              "\n",
              "    .colab-df-convert:hover {\n",
              "      background-color: #E2EBFA;\n",
              "      box-shadow: 0px 1px 2px rgba(60, 64, 67, 0.3), 0px 1px 3px 1px rgba(60, 64, 67, 0.15);\n",
              "      fill: #174EA6;\n",
              "    }\n",
              "\n",
              "    .colab-df-buttons div {\n",
              "      margin-bottom: 4px;\n",
              "    }\n",
              "\n",
              "    [theme=dark] .colab-df-convert {\n",
              "      background-color: #3B4455;\n",
              "      fill: #D2E3FC;\n",
              "    }\n",
              "\n",
              "    [theme=dark] .colab-df-convert:hover {\n",
              "      background-color: #434B5C;\n",
              "      box-shadow: 0px 1px 3px 1px rgba(0, 0, 0, 0.15);\n",
              "      filter: drop-shadow(0px 1px 2px rgba(0, 0, 0, 0.3));\n",
              "      fill: #FFFFFF;\n",
              "    }\n",
              "  </style>\n",
              "\n",
              "    <script>\n",
              "      const buttonEl =\n",
              "        document.querySelector('#df-d08f0357-710e-407a-8dfe-b0fad061e828 button.colab-df-convert');\n",
              "      buttonEl.style.display =\n",
              "        google.colab.kernel.accessAllowed ? 'block' : 'none';\n",
              "\n",
              "      async function convertToInteractive(key) {\n",
              "        const element = document.querySelector('#df-d08f0357-710e-407a-8dfe-b0fad061e828');\n",
              "        const dataTable =\n",
              "          await google.colab.kernel.invokeFunction('convertToInteractive',\n",
              "                                                    [key], {});\n",
              "        if (!dataTable) return;\n",
              "\n",
              "        const docLinkHtml = 'Like what you see? Visit the ' +\n",
              "          '<a target=\"_blank\" href=https://colab.research.google.com/notebooks/data_table.ipynb>data table notebook</a>'\n",
              "          + ' to learn more about interactive tables.';\n",
              "        element.innerHTML = '';\n",
              "        dataTable['output_type'] = 'display_data';\n",
              "        await google.colab.output.renderOutput(dataTable, element);\n",
              "        const docLink = document.createElement('div');\n",
              "        docLink.innerHTML = docLinkHtml;\n",
              "        element.appendChild(docLink);\n",
              "      }\n",
              "    </script>\n",
              "  </div>\n",
              "\n",
              "\n",
              "<div id=\"df-0f208980-0b56-46e7-bb86-b32f9fa55723\">\n",
              "  <button class=\"colab-df-quickchart\" onclick=\"quickchart('df-0f208980-0b56-46e7-bb86-b32f9fa55723')\"\n",
              "            title=\"Suggest charts.\"\n",
              "            style=\"display:none;\">\n",
              "\n",
              "<svg xmlns=\"http://www.w3.org/2000/svg\" height=\"24px\"viewBox=\"0 0 24 24\"\n",
              "     width=\"24px\">\n",
              "    <g>\n",
              "        <path d=\"M19 3H5c-1.1 0-2 .9-2 2v14c0 1.1.9 2 2 2h14c1.1 0 2-.9 2-2V5c0-1.1-.9-2-2-2zM9 17H7v-7h2v7zm4 0h-2V7h2v10zm4 0h-2v-4h2v4z\"/>\n",
              "    </g>\n",
              "</svg>\n",
              "  </button>\n",
              "\n",
              "<style>\n",
              "  .colab-df-quickchart {\n",
              "      --bg-color: #E8F0FE;\n",
              "      --fill-color: #1967D2;\n",
              "      --hover-bg-color: #E2EBFA;\n",
              "      --hover-fill-color: #174EA6;\n",
              "      --disabled-fill-color: #AAA;\n",
              "      --disabled-bg-color: #DDD;\n",
              "  }\n",
              "\n",
              "  [theme=dark] .colab-df-quickchart {\n",
              "      --bg-color: #3B4455;\n",
              "      --fill-color: #D2E3FC;\n",
              "      --hover-bg-color: #434B5C;\n",
              "      --hover-fill-color: #FFFFFF;\n",
              "      --disabled-bg-color: #3B4455;\n",
              "      --disabled-fill-color: #666;\n",
              "  }\n",
              "\n",
              "  .colab-df-quickchart {\n",
              "    background-color: var(--bg-color);\n",
              "    border: none;\n",
              "    border-radius: 50%;\n",
              "    cursor: pointer;\n",
              "    display: none;\n",
              "    fill: var(--fill-color);\n",
              "    height: 32px;\n",
              "    padding: 0;\n",
              "    width: 32px;\n",
              "  }\n",
              "\n",
              "  .colab-df-quickchart:hover {\n",
              "    background-color: var(--hover-bg-color);\n",
              "    box-shadow: 0 1px 2px rgba(60, 64, 67, 0.3), 0 1px 3px 1px rgba(60, 64, 67, 0.15);\n",
              "    fill: var(--button-hover-fill-color);\n",
              "  }\n",
              "\n",
              "  .colab-df-quickchart-complete:disabled,\n",
              "  .colab-df-quickchart-complete:disabled:hover {\n",
              "    background-color: var(--disabled-bg-color);\n",
              "    fill: var(--disabled-fill-color);\n",
              "    box-shadow: none;\n",
              "  }\n",
              "\n",
              "  .colab-df-spinner {\n",
              "    border: 2px solid var(--fill-color);\n",
              "    border-color: transparent;\n",
              "    border-bottom-color: var(--fill-color);\n",
              "    animation:\n",
              "      spin 1s steps(1) infinite;\n",
              "  }\n",
              "\n",
              "  @keyframes spin {\n",
              "    0% {\n",
              "      border-color: transparent;\n",
              "      border-bottom-color: var(--fill-color);\n",
              "      border-left-color: var(--fill-color);\n",
              "    }\n",
              "    20% {\n",
              "      border-color: transparent;\n",
              "      border-left-color: var(--fill-color);\n",
              "      border-top-color: var(--fill-color);\n",
              "    }\n",
              "    30% {\n",
              "      border-color: transparent;\n",
              "      border-left-color: var(--fill-color);\n",
              "      border-top-color: var(--fill-color);\n",
              "      border-right-color: var(--fill-color);\n",
              "    }\n",
              "    40% {\n",
              "      border-color: transparent;\n",
              "      border-right-color: var(--fill-color);\n",
              "      border-top-color: var(--fill-color);\n",
              "    }\n",
              "    60% {\n",
              "      border-color: transparent;\n",
              "      border-right-color: var(--fill-color);\n",
              "    }\n",
              "    80% {\n",
              "      border-color: transparent;\n",
              "      border-right-color: var(--fill-color);\n",
              "      border-bottom-color: var(--fill-color);\n",
              "    }\n",
              "    90% {\n",
              "      border-color: transparent;\n",
              "      border-bottom-color: var(--fill-color);\n",
              "    }\n",
              "  }\n",
              "</style>\n",
              "\n",
              "  <script>\n",
              "    async function quickchart(key) {\n",
              "      const quickchartButtonEl =\n",
              "        document.querySelector('#' + key + ' button');\n",
              "      quickchartButtonEl.disabled = true;  // To prevent multiple clicks.\n",
              "      quickchartButtonEl.classList.add('colab-df-spinner');\n",
              "      try {\n",
              "        const charts = await google.colab.kernel.invokeFunction(\n",
              "            'suggestCharts', [key], {});\n",
              "      } catch (error) {\n",
              "        console.error('Error during call to suggestCharts:', error);\n",
              "      }\n",
              "      quickchartButtonEl.classList.remove('colab-df-spinner');\n",
              "      quickchartButtonEl.classList.add('colab-df-quickchart-complete');\n",
              "    }\n",
              "    (() => {\n",
              "      let quickchartButtonEl =\n",
              "        document.querySelector('#df-0f208980-0b56-46e7-bb86-b32f9fa55723 button');\n",
              "      quickchartButtonEl.style.display =\n",
              "        google.colab.kernel.accessAllowed ? 'block' : 'none';\n",
              "    })();\n",
              "  </script>\n",
              "</div>\n",
              "    </div>\n",
              "  </div>\n"
            ]
          },
          "metadata": {},
          "execution_count": 248
        }
      ],
      "source": [
        "df.agg(\n",
        "    {\n",
        "        \"nb_words\": [\"min\",\"max\",\"median\"]\n",
        "    }\n",
        ")"
      ]
    },
    {
      "cell_type": "code",
      "execution_count": 237,
      "metadata": {
        "id": "kYVKKNAMsnTx",
        "colab": {
          "base_uri": "https://localhost:8080/"
        },
        "outputId": "6658523a-99e4-49d8-81af-d4e3a641d60f"
      },
      "outputs": [
        {
          "output_type": "execute_result",
          "data": {
            "text/plain": [
              "121878     http://gallica.bnf.fr/ark:/12148/bpt6k6516949w...\n",
              "121879     reconnoissancesp=\"http://gallica.bnf.fr/ark:/1...\n",
              "121880     reconnoissancesp=\"http://gallica.bnf.fr/ark:/1...\n",
              "121881     http://gallica.bnf.fr/ark:/12148/bpt6k6516949w...\n",
              "121882     reconnoissancesp=\"http://gallica.bnf.fr/ark:/1...\n",
              "                                 ...                        \n",
              "1790234    http://gallica.bnf.fr/ark:/12148/bpt6k5785741s...\n",
              "1790235    connoissancesp=\"http://gallica.bnf.fr/ark:/121...\n",
              "1790237    connoissancesp=\"http://gallica.bnf.fr/ark:/121...\n",
              "1860380    http://gallica.bnf.fr/ark:/12148/bpt6k65600536...\n",
              "1860382    http://gallica.bnf.fr/ark:/12148/bpt6k65600536...\n",
              "Name: passage, Length: 342, dtype: object"
            ]
          },
          "metadata": {},
          "execution_count": 237
        }
      ],
      "source": [
        "df[df['nb_words'] == 1]['passage']"
      ]
    },
    {
      "cell_type": "code",
      "source": [
        "q3 = df['nb_words'].quantile(0.75)\n",
        "print(q3)\n"
      ],
      "metadata": {
        "id": "KhHAYxR5fjC3",
        "colab": {
          "base_uri": "https://localhost:8080/"
        },
        "outputId": "6e76b68f-12a8-416b-d29e-d62c04caf528"
      },
      "execution_count": 246,
      "outputs": [
        {
          "output_type": "stream",
          "name": "stdout",
          "text": [
            "140.0\n"
          ]
        }
      ]
    },
    {
      "cell_type": "code",
      "source": [],
      "metadata": {
        "id": "M8nCqJp_fjFM"
      },
      "execution_count": null,
      "outputs": []
    },
    {
      "cell_type": "markdown",
      "source": [
        "Le seuil choisi correspond au troisième quartile : 140 mots."
      ],
      "metadata": {
        "id": "6esjJDychNOa"
      }
    },
    {
      "cell_type": "code",
      "source": [],
      "metadata": {
        "id": "ie-BawVmfjHj"
      },
      "execution_count": null,
      "outputs": []
    }
  ],
  "metadata": {
    "colab": {
      "provenance": [],
      "include_colab_link": true
    },
    "kernelspec": {
      "display_name": "Python 3",
      "name": "python3"
    },
    "language_info": {
      "name": "python"
    }
  },
  "nbformat": 4,
  "nbformat_minor": 0
}